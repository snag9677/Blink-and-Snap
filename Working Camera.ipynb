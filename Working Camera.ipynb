{
 "cells": [
  {
   "cell_type": "code",
   "execution_count": 1,
   "metadata": {},
   "outputs": [],
   "source": [
    "import cv2\n",
    "from datetime import date\n",
    "def show_webcam(mirror=False):\n",
    "    scale= 30\n",
    "    today = date.today()\n",
    "    img_counter=0\n",
    "\n",
    "    cam = cv2.VideoCapture(0)\n",
    "    while True:\n",
    "        ret_val, image = cam.read()\n",
    "        if mirror:\n",
    "            image = cv2.flip(image, 1)\n",
    "\n",
    "\n",
    "        #get the webcam size\n",
    "        height, width, channels = image.shape\n",
    "\n",
    "        #prepare the crop\n",
    "        centerX,centerY=int(height/2),int(width/2)\n",
    "        radiusX,radiusY= int(scale*height/100),int(scale*width/100)\n",
    "\n",
    "        minX,maxX=centerX-radiusX,centerX+radiusX\n",
    "        minY,maxY=centerY-radiusY,centerY+radiusY\n",
    "\n",
    "        frame = image[minX:maxX, minY:maxY]\n",
    "        frame = cv2.resize(frame, (width, height))\n",
    "\n",
    "        cv2.imshow('my webcam', frame)\n",
    "\n",
    "        #add + or - 5 % to zoom\n",
    "        k = cv2.waitKey(1)\n",
    "        \n",
    "        if k == 27:\n",
    "            print(\"Closing Camera\")\n",
    "            break  # esc to quit\n",
    "            \n",
    "        elif k == ord('i'):\n",
    "            print(\"Zooming in\")\n",
    "            scale -= 5  # +5\n",
    "\n",
    "        elif k == ord('o'):\n",
    "            print(\"Zooming Out\")\n",
    "            scale += 5  # +5\n",
    "            \n",
    "        elif k == 32: # Put if k == 'DB'\n",
    "        # SPACE pressed (32)\n",
    "            img_name = \"{}_{}.png\".format(str(today),img_counter)\n",
    "            cv2.imwrite(img_name, frame)\n",
    "            print(\"{} written!\".format(img_name))    \n",
    "            img_counter += 1\n",
    "            \n",
    "            \n",
    "    cv2.destroyAllWindows()"
   ]
  },
  {
   "cell_type": "code",
   "execution_count": null,
   "metadata": {},
   "outputs": [],
   "source": [
    "show_webcam(True)"
   ]
  }
 ],
 "metadata": {
  "kernelspec": {
   "display_name": "Python 3",
   "language": "python",
   "name": "python3"
  },
  "language_info": {
   "codemirror_mode": {
    "name": "ipython",
    "version": 3
   },
   "file_extension": ".py",
   "mimetype": "text/x-python",
   "name": "python",
   "nbconvert_exporter": "python",
   "pygments_lexer": "ipython3",
   "version": "3.7.6"
  }
 },
 "nbformat": 4,
 "nbformat_minor": 4
}
