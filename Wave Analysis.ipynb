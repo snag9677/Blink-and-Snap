{
 "cells": [
  {
   "cell_type": "code",
   "execution_count": 1,
   "metadata": {},
   "outputs": [],
   "source": [
    "from scipy.io import wavfile\n",
    "import numpy as np\n",
    "import matplotlib.pyplot as plt\n",
    "import os\n",
    "import time\n",
    "import pandas as pd\n",
    "%matplotlib inline"
   ]
  },
  {
   "cell_type": "code",
   "execution_count": 2,
   "metadata": {},
   "outputs": [
    {
     "data": {
      "text/plain": [
       "['.ipynb_checkpoints',\n",
       " '110520_BBx5_5.wav',\n",
       " '110520_Bx5_1.wav',\n",
       " '110520_L_1.wav',\n",
       " '170520_DBLRLDB_1.wav',\n",
       " '170520_DBRLRDB_1.wav',\n",
       " '170520_DBRRDB_3.wav',\n",
       " '170520_LRRDB_1.wav',\n",
       " '170520_LRRDB_2.wav',\n",
       " '170520_LRRDB_3.wav',\n",
       " '2020-05-24_1_Cleared.wav',\n",
       " '2020-05-24_1_Raw.wav',\n",
       " 'Back_L_3.wav',\n",
       " 'blinkspectrogram.m',\n",
       " 'Clear 110520_BBx5_1.wav',\n",
       " 'Edge_Cases.eps',\n",
       " 'FFT vs Raw L R DB',\n",
       " 'fftplot.m',\n",
       " 'FFT_Bandpass.eps',\n",
       " 'Filters',\n",
       " 'Front_B_1.wav',\n",
       " 'Front_L_2.wav',\n",
       " 'Front_R_3.wav',\n",
       " 'Headband_wave.eps',\n",
       " 'LLLLL_3.wav',\n",
       " 'LLL_O.wav',\n",
       " 'look left oliver.wav',\n",
       " 'look left sahir final.wav',\n",
       " 'look right oliver.wav',\n",
       " 'look right sahir final.wav',\n",
       " 'LRB_1.wav',\n",
       " 'Lside_L_2.wav',\n",
       " 'right look sahir.wav',\n",
       " 'RLRLR_2.wav',\n",
       " 'Schematic.eps',\n",
       " 'Schematic.jpg',\n",
       " 'step.m',\n",
       " 'Time_analysis.eps',\n",
       " 'Time_analysis_zoom.eps',\n",
       " 'Untitled.ipynb',\n",
       " 'Untitled.m']"
      ]
     },
     "execution_count": 2,
     "metadata": {},
     "output_type": "execute_result"
    }
   ],
   "source": [
    "folder = 'C:/Users/nagpa/Desktop/Semester 6/Phys 3888 - Physics Interdisiplinary Project/Reports/Project Report'\n",
    "os.chdir(folder)\n",
    "(os.listdir())"
   ]
  },
  {
   "cell_type": "markdown",
   "metadata": {},
   "source": [
    "# FFT Of Pre Recorded Data"
   ]
  },
  {
   "cell_type": "code",
   "execution_count": 3,
   "metadata": {},
   "outputs": [],
   "source": [
    "# Does the fft\n",
    "\n",
    "def spectrum(t,x):\n",
    "    frequency = np.fft.rfftfreq(len(t),d=t[1]-t[0])\n",
    "    amplitude = (np.fft.rfft(x)) \n",
    "    return frequency, amplitude"
   ]
  },
  {
   "cell_type": "code",
   "execution_count": 4,
   "metadata": {},
   "outputs": [],
   "source": [
    "# To cut off frequencies with noise\n",
    "\n",
    "def steplow(cut,freq,amp):\n",
    "    for i in range(len(amp)):\n",
    "        if freq[i]<=cut:\n",
    "            amp[i] = 0\n",
    "    return amp\n",
    "\n",
    "def stephigh(cut,freq,amp):\n",
    "    for i in range(len(amp)):\n",
    "        if freq[i]>=cut:\n",
    "            amp[i] = 0\n",
    "    return amp"
   ]
  },
  {
   "cell_type": "code",
   "execution_count": 29,
   "metadata": {},
   "outputs": [],
   "source": [
    "def spectrum(t,x):\n",
    "    frequency = np.fft.rfftfreq(len(t),d=t[1]-t[0])\n",
    "    amplitude = (np.fft.rfft(x)) \n",
    "    return frequency, amplitude\n",
    "\n",
    "def steplow(cut,freq,amp):\n",
    "    for i in range(len(amp)):\n",
    "        if freq[i]<=cut:\n",
    "            amp[i] = 0\n",
    "    return amp\n",
    "\n",
    "def stephigh(cut,freq,amp):\n",
    "    for i in range(len(amp)):\n",
    "        if freq[i]>=cut:\n",
    "            amp[i] = 0\n",
    "    return amp\n",
    "\n",
    "def fftplot(filename,stdev=3,title = None,fast = True,zoom = None,cutlow=0,cuthigh=40,enlarge=False,cube=False,plot=True):\n",
    "    fs, data = wavfile.read(str(filename))\n",
    "    \n",
    "#   Defining time domain and taking the FFT\n",
    "    df = fs/len(data) # = 1/T\n",
    "    if fast == True:\n",
    "        nfft = (2**14)\n",
    "    else:\n",
    "        nfft = len(data)\n",
    "    data = data[0:nfft]\n",
    "    t = np.linspace(0,len(data)/fs,len(data))\n",
    "    freq, amp = spectrum(t,data)\n",
    "#     amp1 = np.abs(amp)\n",
    "#     amp = steplow(cutlow,freq,amp)\n",
    "#     amp = stephigh(cuthigh,freq,amp)\n",
    "    cutamp = steplow(cutlow,freq,amp)\n",
    "    cutamp = stephigh(cuthigh,freq,amp)\n",
    "    \n",
    "    \n",
    "    Y = np.fft.irfft(amp)\n",
    "    \n",
    "    if cube:\n",
    "        Y=Y**3\n",
    "        \n",
    "    if zoom == None:\n",
    "        t1 = t\n",
    "    else:\n",
    "        cutfreq = freq[0:zoom]\n",
    "        cutamp = amp[0:zoom]\n",
    "        t1 = t[0:zoom]\n",
    "\n",
    "    cutamp = np.abs(cutamp)**2\n",
    "    \n",
    "    # Fitting a Gaussian\n",
    "    wid = 2*(stdev**2)\n",
    "    wid1  = 100\n",
    "    cen = freq[np.argmax(cutamp)]\n",
    "    g = cutamp*np.exp(-((cutfreq - cen)**2)/wid)\n",
    "    G = np.exp(-(cutfreq - cen)**2/wid)\n",
    "    G_all = amp*np.exp(-((freq - cen)**2)/wid)\n",
    "    \n",
    "    YY = np.fft.irfft(G_all)\n",
    "#   Plotting the waveform and the correspondng FFT\n",
    "    \n",
    "    \n",
    "    if plot:\n",
    "        fig, ax = plt.subplots(1,1,figsize=(15,5))\n",
    "#     if enlarge == True:\n",
    "#         top = 3\n",
    "#         bottom = 1\n",
    "#     else:\n",
    "#         top = 1.5\n",
    "#         bottom = 1\n",
    "#     fig.subplots_adjust(top=top,bottom=bottom)\n",
    "        \n",
    "#     ax.plot(t,data)\n",
    "#     ax.set_xlabel('Time (s)',fontsize=15)\n",
    "#     ax.set_ylabel('Amplitude',fontsize=15)\n",
    "#     ax.set_title('Wave',fontsize=20)\n",
    "#     ax.tick_params(axis='both',labelsize=13)\n",
    "#         amp = np.abs(amp[0:zoom])**2\n",
    "# #         ax.plot(cutfreq,cutamp/2)\n",
    "#         ax.plot(cutfreq,amp)\n",
    "#         ax.set_ylabel('Amplitude',fontsize=15)\n",
    "#         ax.set_xlabel('Frequency (Hz)',fontsize=15)\n",
    "#         ax.tick_params(axis='both',labelsize=13)\n",
    "#         YY=YY[20000:-10000]\n",
    "        ax.plot(t[0:len(Y[20000:-10000])],Y[20000:-10000]**3)\n",
    "        ax.set_xlabel('Time (s)',fontsize=15)\n",
    "        ax.set_ylabel('Amplitude',fontsize=15)\n",
    "#        ax.set_title('Wave produced after stripping high frequencies',fontsize=20)\n",
    "#         ax.tick_params(axis='both',labelsize=13)\n",
    "#         plt.annotate('Left',(7.5,150),fontsize=13,color='b')\n",
    "#         plt.annotate('Right',(7.5,-120),fontsize=13,color='r')\n",
    "#         plt.annotate('Double\\nBlink',(7.5,45),fontsize=13,color='g')\n",
    "#         ax.axhline(150,color='b')\n",
    "#         ax.axhline(-120,color='r')\n",
    "#         ax.axhline(45,color='g')\n",
    "#     #     ax.axhline('Double\\nBLink')\n",
    "#         ax.axvline(3.5,color='b')\n",
    "#         ax.axvline(8,color='k')\n",
    "#         plt.annotate('Band Limit',(7.5,3e13),color='k',fontsize=15,rotation=90)\n",
    "        plt.annotate('Left',(1.55,0.5e7),color='b')\n",
    "        ax.axvline(1,color='b')\n",
    "        ax.axvline(2,color='b')\n",
    "        plt.annotate('Right',(3.55,0.5e7),color='r')\n",
    "        ax.axvline(3.5,color='r')\n",
    "        ax.axvline(4.1,color='r')\n",
    "        plt.annotate('Double\\nBlink',(6.12,0.4e7),color='g')\n",
    "        ax.axvline(5.8,color='g')\n",
    "        ax.axvline(6.1,color='g')\n",
    "        plt.grid('both')\n",
    "        extent = ax.get_window_extent().transformed(fig.dpi_scale_trans.inverted())\n",
    "        fig.savefig('FFT_cubed.eps',format='eps',bbox_inches=extent.expanded(1.2, 1.35))\n",
    "#     ax[3].plot(cutfreq,G,linewidth=2.5)\n",
    "#     ax[3].set_ylabel('Amplitude',fontsize=20)\n",
    "#     ax[3].set_xlabel('Time domain (s)',fontsize=15)\n",
    "#     ax[3].set_title('Gaussian Distribution',fontsize=20)\n",
    "#     ax[3].tick_params(axis='both',labelsize=13)\n",
    "\n",
    "#     ax[4].plot(cutfreq,g,linewidth=2.5)\n",
    "#     ax[4].set_ylabel('Amplitude',fontsize=15)\n",
    "#     ax[4].set_xlabel('Frequency (Hz)',fontsize=15)\n",
    "#     ax[4].set_title('Fourier Transform With Gaussian fit',fontsize=20)\n",
    "#     ax[4].tick_params(axis='both',labelsize=13)\n",
    "\n",
    "#     ax[5].plot(t,YY,linewidth=2.5)\n",
    "#     ax[5].set_xlabel('Time (s)',fontsize=15)\n",
    "#     ax[5].set_ylabel('Amplitude',fontsize=15)\n",
    "#     ax[5].set_title('Wave produced from Inverse FFT after Gaussian',fontsize=20)\n",
    "#     ax[5].tick_params(axis='both',labelsize=13)\n",
    "    \n",
    "#     ax[6].plot(t,YY,t,data,linewidth=2.5)\n",
    "#     ax[6].set_xlabel('Time (s)',fontsize=15)\n",
    "#     ax[6].set_ylabel('Amplitude',fontsize=15)\n",
    "#     ax[6].set_title('Wave data and data-smoothed wave',fontsize=20)\n",
    "#     ax[6].tick_params(axis='both',labelsize=13)\n",
    "    \n",
    "#     ax[7].plot(cutfreq,cutamp,cutfreq,g,linewidth=2.5)\n",
    "#     ax[7].set_ylabel('Amplitude',fontsize=15)\n",
    "#     ax[7].set_xlabel('Frequency (Hz)',fontsize=15)\n",
    "#     ax[7].set_title('Fourier Transform compared to noise reduced from gaussian '+str(cuthigh)+' Hz stripped off',fontsize=20)\n",
    "#     ax[7].tick_params(axis='both',labelsize=13)\n",
    "        \n",
    "# #    Setting the title\n",
    "    if title != None:\n",
    "        fig.suptitle(str(title),fontsize = 20)\n",
    "        \n",
    "#     return print(\"Peak Frequency at\", freq[np.argmax(amp)])\n",
    "# '2020-05-24_1_Raw.wav'"
   ]
  },
  {
   "cell_type": "code",
   "execution_count": 30,
   "metadata": {},
   "outputs": [
    {
     "data": {
      "image/png": "[encoded data removed]",
      "text/plain": [
       "<Figure size 1080x360 with 1 Axes>"
      ]
     },
     "metadata": {
      "needs_background": "light"
     },
     "output_type": "display_data"
    }
   ],
   "source": [
    "fftplot('2020-05-24_1_Raw.wav',stdev=5,zoom=200,plot=True,cuthigh=8,cube=False,fast=False)"
   ]
  },
  {
   "cell_type": "code",
   "execution_count": 12,
   "metadata": {
    "scrolled": false
   },
   "outputs": [],
   "source": [
    "files = os.listdir()\n",
    "t = np.array([])\n",
    "for file in files:\n",
    "    start_time = time.time()\n",
    "    if '.wav' in file:\n",
    "        fftplot(file,stdev=5,zoom=200,plot=False,cuthigh=15,cube=True,fast=False)\n",
    "        t = np.append(t,time.time() - start_time)\n",
    "\n",
    "# time.process_time()"
   ]
  },
  {
   "cell_type": "code",
   "execution_count": 13,
   "metadata": {},
   "outputs": [
    {
     "name": "stdout",
     "output_type": "stream",
     "text": [
      "25\n"
     ]
    }
   ],
   "source": [
    "print(len(t))\n",
    "matlab_t = np.array([54.67,49.97,54.43,317.11,319.03,202.69,188.7,188.78,190.93,57.02,1.95,64.83,4.52,2,1.82,149.16,43.43,79.25,1.83,104.14,62.42,64.00,59.62,67.20,68.97,])"
   ]
  },
  {
   "cell_type": "code",
   "execution_count": 14,
   "metadata": {},
   "outputs": [],
   "source": [
    "cols = ['Python','MATLAB']\n",
    "df = pd.DataFrame(columns=cols)\n",
    "df['Python'] = t\n",
    "df['MATLAB'] = matlab_t\n",
    "# xbins,edges = np.histogram(df['Python'])"
   ]
  },
  {
   "cell_type": "code",
   "execution_count": 18,
   "metadata": {},
   "outputs": [
    {
     "name": "stderr",
     "output_type": "stream",
     "text": [
      "The PostScript backend does not support transparency; partially transparent artists will be rendered opaque.\n",
      "The PostScript backend does not support transparency; partially transparent artists will be rendered opaque.\n"
     ]
    },
    {
     "data": {
      "image/png": "[encoded data removed]",
      "text/plain": [
       "<Figure size 1080x360 with 1 Axes>"
      ]
     },
     "metadata": {
      "needs_background": "light"
     },
     "output_type": "display_data"
    }
   ],
   "source": [
    "count,binedges = np.histogram(df,20)\n",
    "df.plot(kind='hist',figsize=(15,5),xticks=binedges,bins=20)\n",
    "plt.grid('both')\n",
    "plt.xlabel('Time (s)',fontsize=15); \n",
    "plt.ylabel('Number of sampled pre-recorded waves',fontsize=15)\n",
    "plt.savefig('Time_analysis.eps',format='eps')\n",
    "plt.show()"
   ]
  },
  {
   "cell_type": "code",
   "execution_count": 19,
   "metadata": {},
   "outputs": [],
   "source": [
    "df = df.sort_values(['MATLAB'],ascending=True,axis=0)\n",
    "df_zoom = df.head(5)\n",
    "df=df_zoom.reset_index()"
   ]
  },
  {
   "cell_type": "code",
   "execution_count": 99,
   "metadata": {},
   "outputs": [
    {
     "name": "stderr",
     "output_type": "stream",
     "text": [
      "The PostScript backend does not support transparency; partially transparent artists will be rendered opaque.\n",
      "The PostScript backend does not support transparency; partially transparent artists will be rendered opaque.\n"
     ]
    },
    {
     "data": {
      "image/png": "[encoded data removed]",
      "text/plain": [
       "<Figure size 1080x360 with 1 Axes>"
      ]
     },
     "metadata": {
      "needs_background": "light"
     },
     "output_type": "display_data"
    }
   ],
   "source": [
    "count,binedges = np.histogram(df['MATLAB'])\n",
    "df_zoom.plot(kind='hist',figsize=(15,5),xticks=binedges)\n",
    "# plt.grid('both')\n",
    "plt.xlabel('Time (s)',fontsize=15); \n",
    "# plt.grid('both')\n",
    "plt.ylabel('Number of sampled pre-recorded waves',fontsize=15)\n",
    "plt.savefig('Time_analysis_zoom.eps',format='eps')\n",
    "plt.show()"
   ]
  },
  {
   "cell_type": "code",
   "execution_count": 127,
   "metadata": {},
   "outputs": [
    {
     "data": {
      "text/plain": [
       "(array([5.]), array([0.02396536, 0.12164736]), <a list of 1 Patch objects>)"
      ]
     },
     "execution_count": 127,
     "metadata": {},
     "output_type": "execute_result"
    },
    {
     "data": {
      "image/png": "[encoded data removed]",
      "text/plain": [
       "<Figure size 1080x360 with 1 Axes>"
      ]
     },
     "metadata": {
      "needs_background": "light"
     },
     "output_type": "display_data"
    }
   ],
   "source": [
    "plt.figure(figsize=(15,5))\n",
    "counts,edges=np.histogram(df_zoom['MATLAB'],5)\n",
    "plt.hist(df_zoom['MATLAB'],stacked=True,density=True,bins=20)\n",
    "plt.hist(df['Python'],bins=1)"
   ]
  },
  {
   "cell_type": "code",
   "execution_count": 154,
   "metadata": {},
   "outputs": [],
   "source": [
    "df[df>=16]= np.NaN\n",
    "# df.drop([\"index\"],axis=1,inplace=True)"
   ]
  },
  {
   "cell_type": "code",
   "execution_count": 165,
   "metadata": {
    "scrolled": true
   },
   "outputs": [
    {
     "name": "stderr",
     "output_type": "stream",
     "text": [
      "The PostScript backend does not support transparency; partially transparent artists will be rendered opaque.\n",
      "The PostScript backend does not support transparency; partially transparent artists will be rendered opaque.\n"
     ]
    },
    {
     "data": {
      "image/png": "[encoded data removed]",
      "text/plain": [
       "<Figure size 1080x360 with 1 Axes>"
      ]
     },
     "metadata": {
      "needs_background": "light"
     },
     "output_type": "display_data"
    }
   ],
   "source": [
    "# count,edges = np.histogram(df_zoom)\n",
    "df.plot(kind='hist',figsize=(15,5),bins=20)\n",
    "plt.xlabel('Time (s)',fontsize=15); \n",
    "# plt.grid('both')\n",
    "plt.ylabel('Number of sampled pre-recorded waves',fontsize=15)\n",
    "plt.savefig('Time_analysis_zoom.eps',format='eps')"
   ]
  }
 ],
 "metadata": {
  "kernelspec": {
   "display_name": "Python 3",
   "language": "python",
   "name": "python3"
  },
  "language_info": {
   "codemirror_mode": {
    "name": "ipython",
    "version": 3
   },
   "file_extension": ".py",
   "mimetype": "text/x-python",
   "name": "python",
   "nbconvert_exporter": "python",
   "pygments_lexer": "ipython3",
   "version": "3.7.6"
  }
 },
 "nbformat": 4,
 "nbformat_minor": 4
}
